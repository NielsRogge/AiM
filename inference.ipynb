{
 "cells": [
  {
   "cell_type": "code",
   "execution_count": 7,
   "id": "42af29eb-3b6a-4ceb-8ca9-9376d358e133",
   "metadata": {},
   "outputs": [],
   "source": [
    "import os\n",
    "import torch\n",
    "import torch.nn as nn\n",
    "import numpy as np\n",
    "import importlib\n",
    "import matplotlib.pyplot as plt\n",
    "\n",
    "from torchvision.transforms import InterpolationMode, transforms\n",
    "from torchvision import utils as vutils\n",
    "from util.data import Dataset, DataLoader\n",
    "from util.helper import get_obj_from_str, instantiate_from_config, get_checkpoint_path\n",
    "\n",
    "from PIL import Image\n",
    "from tqdm import tqdm\n",
    "from omegaconf import OmegaConf"
   ]
  },
  {
   "cell_type": "code",
   "execution_count": 2,
   "id": "dfdc5076-c0c2-438a-9f85-4450b42a2f94",
   "metadata": {},
   "outputs": [],
   "source": [
    "config = OmegaConf.load('./config/aim-xl-imagenet256.yaml')"
   ]
  },
  {
   "cell_type": "code",
   "execution_count": 3,
   "id": "ccd2e65b-28ee-42e2-9fba-c4780a716064",
   "metadata": {},
   "outputs": [
    {
     "name": "stdout",
     "output_type": "stream",
     "text": [
      "Restored from ../VQRetNet/checkpoints/vq_ds16_c2i.pt\n",
      "number of parameters: 743.22M\n",
      "Restored from /data/haopeng.li/checkpoints/aim-xl/checkpoints-76500/pytorch_model.bin\n"
     ]
    }
   ],
   "source": [
    "device = 'cuda'\n",
    "\n",
    "ckpt_path = \"YOUR_CKPT_PATH\"\n",
    "\n",
    "model = instantiate_from_config(config['model'])\n",
    "model.from_pretrained(ckpt_path)\n",
    "\n",
    "model = model.to(device)"
   ]
  },
  {
   "cell_type": "code",
   "execution_count": 8,
   "id": "2a6b78da-d132-4637-912b-688ebe622256",
   "metadata": {},
   "outputs": [],
   "source": [
    "model.eval()\n",
    "model.mamba.cfg_scale = 2\n",
    "\n",
    "bs = 8\n",
    "y = torch.full((bs, 1), 250 ).to(device)\n",
    "\n",
    "imgs = model.generate(y, temperature=1, top_p=0.98, top_k=300)\n",
    "\n",
    "images = vutils.make_grid(imgs, nrow=imgs.shape[0]//2, normalize=True, value_range =(-1, 1))\n",
    "images = images.detach().cpu().permute(1, 2, 0).numpy()\n",
    "\n",
    "torch.cuda.empty_cache()\n",
    "\n",
    "fig = plt.figure(dpi=300)\n",
    "plt.axis('off')\n",
    "plt.imshow(images)\n",
    "plt.show()"
   ]
  }
 ],
 "metadata": {
  "kernelspec": {
   "display_name": "Python [conda env:mamba]",
   "language": "python",
   "name": "conda-env-mamba-py"
  },
  "language_info": {
   "codemirror_mode": {
    "name": "ipython",
    "version": 3
   },
   "file_extension": ".py",
   "mimetype": "text/x-python",
   "name": "python",
   "nbconvert_exporter": "python",
   "pygments_lexer": "ipython3",
   "version": "3.11.9"
  }
 },
 "nbformat": 4,
 "nbformat_minor": 5
}
